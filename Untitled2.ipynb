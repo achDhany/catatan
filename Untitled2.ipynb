{
 "cells": [
  {
   "cell_type": "markdown",
   "metadata": {},
   "source": [
    "<b><h1>QUEUE</h1></b>"
   ]
  },
  {
   "cell_type": "markdown",
   "metadata": {},
   "source": [
    "Queue bisa disebut juga antrian pada struktur data. Queue adalah sekumpulan data yang mana penambahan elemen hanya bisa dilakukan pada suatu ujung yang disebut sisi belakang (rear), dan penghapusan (pengambilan elemen) dilakukan lewat ujung lain. Pada tumpukan menggunakan prinsip “masuk terakhir keluar pertama” atau “Last In First Out”(LIFO), maka pada antrian prinsip yang digunakan adalah prinsip “masuk pertama keluar pertama” atau “First In First Out” (FIFO)"
   ]
  },
  {
   "cell_type": "markdown",
   "metadata": {},
   "source": [
    "<h1>CODE</h1>"
   ]
  },
  {
   "cell_type": "markdown",
   "metadata": {},
   "source": [
    "<p>*create =Untuk menciptakan dan menginisialisasi Queue\n",
    "Dengan cara membuat Head dan Tail = -1\n",
    "<br>*IsEmpety=Untuk memeriksa apakah Antrian sudah penuh atau belum.\n",
    "Dengan cara memeriksa nilai Tail, jika Tail = -1 maka empty\n",
    "Kita tidak memeriksa Head\n",
    "<br>*enqueue=Untuk menambahkan elemen ke dalam Antrian, penambahan elemen selalu ditambahkan di elemen paling belakang\n",
    "Penambahan elemen selalu menggerakan variabel Tail dengan cara increment counter Tail terlebih dahulu\n",
    "<br>*dequeqe=Digunakan untuk menghapus elemen terdepan/pertama (head) dari Antrian\n",
    "Dengan cara menggeser semua elemen antrian kedepan dan mengurangi Tail dgn 1\n",
    "Penggeseran dilakukan dengan menggunakan looping.\n",
    "<br>*clear=penghapusan element\n",
    "</p>"
   ]
  },
  {
   "cell_type": "code",
   "execution_count": null,
   "metadata": {},
   "outputs": [],
   "source": []
  },
  {
   "cell_type": "code",
   "execution_count": null,
   "metadata": {},
   "outputs": [],
   "source": []
  }
 ],
 "metadata": {
  "kernelspec": {
   "display_name": "Python 3",
   "language": "python",
   "name": "python3"
  },
  "language_info": {
   "codemirror_mode": {
    "name": "ipython",
    "version": 3
   },
   "file_extension": ".py",
   "mimetype": "text/x-python",
   "name": "python",
   "nbconvert_exporter": "python",
   "pygments_lexer": "ipython3",
   "version": "3.7.1"
  }
 },
 "nbformat": 4,
 "nbformat_minor": 2
}
