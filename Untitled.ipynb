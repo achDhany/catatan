{
 "cells": [
  {
   "cell_type": "markdown",
   "metadata": {},
   "source": [
    "<p><b><h1>Variable dan Tipe Data</h1></b>\n",
    "    <br>variabel adalah nama atau identitas yang mempresentasikan suatu nilai dengan tipe data tertentu.Berbagai macam tipe data dasar yang dikenal dalam bahasa pemrograman Python, antara lain: - Integer, merupakan data numerik - Float, merupakan data numerik yang berbentuk real - String, merupakan data teks - Boolean, merupakan data yang hanya memiliki dua nilai saja, yaitu True dan False</p>\n",
    "    "
   ]
  },
  {
   "cell_type": "code",
   "execution_count": null,
   "metadata": {},
   "outputs": [],
   "source": []
  },
  {
   "cell_type": "code",
   "execution_count": null,
   "metadata": {},
   "outputs": [],
   "source": []
  },
  {
   "cell_type": "code",
   "execution_count": 9,
   "metadata": {},
   "outputs": [
    {
     "data": {
      "text/plain": [
       "str"
      ]
     },
     "execution_count": 9,
     "metadata": {},
     "output_type": "execute_result"
    }
   ],
   "source": [
    "data=\"Hello world\"\n",
    "type(data)"
   ]
  },
  {
   "cell_type": "markdown",
   "metadata": {},
   "source": [
    "<b><h1>MODUL 1</h1></b>\n",
    "\n"
   ]
  },
  {
   "cell_type": "markdown",
   "metadata": {},
   "source": [
    "<p>Berikut adalah contoh \n",
    "code untuk operasi antara variabel dengan tipe data yang sama</p>"
   ]
  },
  {
   "cell_type": "code",
   "execution_count": 13,
   "metadata": {},
   "outputs": [
    {
     "name": "stdout",
     "output_type": "stream",
     "text": [
      "hasil= 15\n"
     ]
    }
   ],
   "source": [
    "#Operasi antara variabel bertipe integer\n",
    "a=13\n",
    "b=76\n",
    "hasil=a+b\n",
    "print('hasil=',hasil)"
   ]
  },
  {
   "cell_type": "code",
   "execution_count": 14,
   "metadata": {},
   "outputs": [
    {
     "name": "stdout",
     "output_type": "stream",
     "text": [
      "hasil= 6.7\n"
     ]
    }
   ],
   "source": [
    "#Operasi antara variabel bertipe float\n",
    "a=9.5\n",
    "b=3.4\n",
    "hasil=a+b\n",
    "print('hasil=',hasil)"
   ]
  },
  {
   "cell_type": "markdown",
   "metadata": {},
   "source": [
    "<p><h1>LIST</h1>\n",
    "    <br>List adalah struktur data yang terdiri dari beberapa elemen atau anggota list dengan berbagai tipe data. Masing-masing elemen dipisahkan oleh ','.'. Seperti a=[6, 10, 23]a=[6,10,23]\n",
    "Didalam list terdapat index yang menunjukkan urutan elemen dari suatu list. Index dari list ini dimulai dari '0'. Untuk mengakses elemen pada suatu list, dilakukan dengan cara yang sama dengan tipe data string. </br> </p>"
   ]
  },
  {
   "cell_type": "code",
   "execution_count": 16,
   "metadata": {},
   "outputs": [
    {
     "name": "stdout",
     "output_type": "stream",
     "text": [
      "[7, 5, 'dhany', 0.8, 'awkowkowk']\n",
      "5\n",
      "[5, 'dhany', 0.8]\n"
     ]
    }
   ],
   "source": [
    "arrData=[7,5,'dhany',0.8,'awkowkowk']\n",
    "print (arrData)\n",
    "print(arrData[1])\n",
    "print(arrData[1:4])"
   ]
  },
  {
   "cell_type": "code",
   "execution_count": null,
   "metadata": {},
   "outputs": [],
   "source": []
  }
 ],
 "metadata": {
  "kernelspec": {
   "display_name": "Python 3",
   "language": "python",
   "name": "python3"
  },
  "language_info": {
   "codemirror_mode": {
    "name": "ipython",
    "version": 3
   },
   "file_extension": ".py",
   "mimetype": "text/x-python",
   "name": "python",
   "nbconvert_exporter": "python",
   "pygments_lexer": "ipython3",
   "version": "3.7.1"
  }
 },
 "nbformat": 4,
 "nbformat_minor": 2
}
